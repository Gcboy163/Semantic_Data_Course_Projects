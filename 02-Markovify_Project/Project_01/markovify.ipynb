{
 "cells": [
  {
   "cell_type": "code",
   "execution_count": 1,
   "metadata": {
    "ExecuteTime": {
     "end_time": "2023-10-26T21:05:48.542362300Z",
     "start_time": "2023-10-26T21:05:48.532260Z"
    }
   },
   "outputs": [],
   "source": [
    "import pandas as pd\n",
    "import markovify\n",
    "import re"
   ]
  },
  {
   "cell_type": "code",
   "execution_count": 2,
   "metadata": {
    "ExecuteTime": {
     "end_time": "2023-10-26T20:03:23.323345400Z",
     "start_time": "2023-10-26T20:03:23.193176500Z"
    }
   },
   "outputs": [
    {
     "name": "stdout",
     "output_type": "stream",
     "text": [
      "0    4553\n",
      "1     265\n",
      "2     124\n",
      "3     200\n",
      "4     593\n",
      "Name: comments, dtype: int64\n",
      "0    Sir Ken Robinson makes an entertaining and pro...\n",
      "1    With the same humor and humanity he exuded in ...\n",
      "2    New York Times columnist David Pogue takes aim...\n",
      "3    In an emotionally charged talk, MacArthur-winn...\n",
      "4    You've never seen data presented like this. Wi...\n",
      "Name: description, dtype: object\n",
      "0    1164\n",
      "1     977\n",
      "2    1286\n",
      "3    1116\n",
      "4    1190\n",
      "Name: duration, dtype: int64\n",
      "0    TED2006\n",
      "1    TED2006\n",
      "2    TED2006\n",
      "3    TED2006\n",
      "4    TED2006\n",
      "Name: event, dtype: object\n",
      "0    1140825600\n",
      "1    1140825600\n",
      "2    1140739200\n",
      "3    1140912000\n",
      "4    1140566400\n",
      "Name: film_date, dtype: int64\n",
      "0    60\n",
      "1    43\n",
      "2    26\n",
      "3    35\n",
      "4    48\n",
      "Name: languages, dtype: int64\n",
      "0     Ken Robinson\n",
      "1          Al Gore\n",
      "2      David Pogue\n",
      "3    Majora Carter\n",
      "4     Hans Rosling\n",
      "Name: main_speaker, dtype: object\n",
      "0        Ken Robinson: Do schools kill creativity?\n",
      "1             Al Gore: Averting the climate crisis\n",
      "2                    David Pogue: Simplicity sells\n",
      "3               Majora Carter: Greening the ghetto\n",
      "4    Hans Rosling: The best stats you've ever seen\n",
      "Name: name, dtype: object\n",
      "0    1\n",
      "1    1\n",
      "2    1\n",
      "3    1\n",
      "4    1\n",
      "Name: num_speaker, dtype: int64\n",
      "0    1151367060\n",
      "1    1151367060\n",
      "2    1151367060\n",
      "3    1151367060\n",
      "4    1151440680\n",
      "Name: published_date, dtype: int64\n",
      "0    [{'id': 7, 'name': 'Funny', 'count': 19645}, {...\n",
      "1    [{'id': 7, 'name': 'Funny', 'count': 544}, {'i...\n",
      "2    [{'id': 7, 'name': 'Funny', 'count': 964}, {'i...\n",
      "3    [{'id': 3, 'name': 'Courageous', 'count': 760}...\n",
      "4    [{'id': 9, 'name': 'Ingenious', 'count': 3202}...\n",
      "Name: ratings, dtype: object\n",
      "0    [{'id': 865, 'hero': 'https://pe.tedcdn.com/im...\n",
      "1    [{'id': 243, 'hero': 'https://pe.tedcdn.com/im...\n",
      "2    [{'id': 1725, 'hero': 'https://pe.tedcdn.com/i...\n",
      "3    [{'id': 1041, 'hero': 'https://pe.tedcdn.com/i...\n",
      "4    [{'id': 2056, 'hero': 'https://pe.tedcdn.com/i...\n",
      "Name: related_talks, dtype: object\n",
      "0                         Author/educator\n",
      "1                        Climate advocate\n",
      "2                    Technology columnist\n",
      "3      Activist for environmental justice\n",
      "4    Global health expert; data visionary\n",
      "Name: speaker_occupation, dtype: object\n",
      "0    ['children', 'creativity', 'culture', 'dance',...\n",
      "1    ['alternative energy', 'cars', 'climate change...\n",
      "2    ['computers', 'entertainment', 'interface desi...\n",
      "3    ['MacArthur grant', 'activism', 'business', 'c...\n",
      "4    ['Africa', 'Asia', 'Google', 'demo', 'economic...\n",
      "Name: tags, dtype: object\n",
      "0        Do schools kill creativity?\n",
      "1        Averting the climate crisis\n",
      "2                   Simplicity sells\n",
      "3                Greening the ghetto\n",
      "4    The best stats you've ever seen\n",
      "Name: title, dtype: object\n",
      "0    https://www.ted.com/talks/ken_robinson_says_sc...\n",
      "1    https://www.ted.com/talks/al_gore_on_averting_...\n",
      "2    https://www.ted.com/talks/david_pogue_says_sim...\n",
      "3    https://www.ted.com/talks/majora_carter_s_tale...\n",
      "4    https://www.ted.com/talks/hans_rosling_shows_t...\n",
      "Name: url, dtype: object\n",
      "0    47227110\n",
      "1     3200520\n",
      "2     1636292\n",
      "3     1697550\n",
      "4    12005869\n",
      "Name: views, dtype: int64\n",
      "2550\n"
     ]
    }
   ],
   "source": [
    "\n",
    "# Load the dataset\n",
    "df = pd.read_csv('data/ted_main.csv')\n",
    "\n",
    "# Check the first 5 data in each column\n",
    "for col in df.columns:\n",
    "    print(df[col].head(5))\n",
    "\n",
    "print(len(df))"
   ]
  },
  {
   "cell_type": "code",
   "execution_count": 3,
   "metadata": {
    "ExecuteTime": {
     "end_time": "2023-10-26T21:08:34.083781400Z",
     "start_time": "2023-10-26T21:08:34.062558700Z"
    }
   },
   "outputs": [],
   "source": [
    "# Get the first 2000 titles and comments\n",
    "titles = df['title']\n",
    "descriptions = df['description']\n"
   ]
  },
  {
   "cell_type": "markdown",
   "metadata": {},
   "source": [
    "# Override the 'sentence_split()' function"
   ]
  },
  {
   "cell_type": "code",
   "execution_count": 4,
   "metadata": {
    "ExecuteTime": {
     "end_time": "2023-10-26T21:15:15.730922900Z",
     "start_time": "2023-10-26T21:15:15.711429700Z"
    }
   },
   "outputs": [],
   "source": [
    "class CustomText(markovify.Text):\n",
    "    def sentence_split(self, text):\n",
    "        sentences = re.split(r'\\n', text)\n",
    "        return sentences"
   ]
  },
  {
   "cell_type": "code",
   "execution_count": 5,
   "metadata": {
    "ExecuteTime": {
     "end_time": "2023-10-26T21:15:17.613184500Z",
     "start_time": "2023-10-26T21:15:17.321691100Z"
    }
   },
   "outputs": [
    {
     "name": "stdout",
     "output_type": "stream",
     "text": [
      "====Titles====\n",
      "The Blur Building and other mosquito-borne diseases\n",
      "\n",
      "What's wrong with what we eat to starve cancer?\n",
      "\n",
      "Organic design, inspired by the ocean\n",
      "\n",
      "What I learned from my autistic brothers\n",
      "\n",
      "Biomimicry's surprising lessons from big cats\n",
      "\n",
      "Let's not use Mars as a young rebel\n",
      "\n",
      "Success is a strength, not a zero-sum game\n",
      "\n",
      "Why mayors should rule the world vote for in your home -- and how to create magic\n",
      "\n",
      "How not to be happy? Be grateful\n",
      "\n",
      "The mysterious world of bioluminescence\n",
      "\n",
      "\n",
      "\n",
      "=====Descriptions=====\n",
      "Aaron Huey's effort to collect all the livable space on Earth? Paul Gilding suggests we calibrate our outlook on time as a given. \n",
      "\n",
      "We've all dreamed of flying -- but biological products, based on happiness. In an exclusive preview of the electric car.\n",
      "\n",
      "What do these two challenges have in common is that really what the facts were known at the protein level may lead to more complex concepts. Call it Chineasy.\n",
      "\n",
      "As a democratic revolution led by Chad Jenkins, that gives him the ability to learn, understand themselves and enjoying the fruits of their food, not because of over-usage, Rob Harmon talks about three ways we might yet realize the possibility of finding and sharing the know-how to use it.\n",
      "\n",
      "In our tech-driven, interconnected world, we've developed new ways to recover -- physically and mentally -- beyond all expectations. At the 2008 TED Prize, war photographer James Nachtwey shows his charming, thoughtful talk.\n",
      "\n",
      "Carolyn Porco shares exciting new findings from the TED crowd with his own iconic book covers.\n",
      "\n",
      "Subtle motion happens around us all to pursue their passions.\n",
      "\n",
      "Satirist Tom Rielly delivers a piercing challenge to established economic principles, explaining how we might one day allow a wheelchair user to stand up for women using verses from the modern world.\n",
      "\n",
      "Colin Grant has spent decades looking intimately at the TEDSalon in London, Wells published a letter to her SING campaign, raising awareness and money to help build a complete 3D visualization of our biology to design renegades, Alice Rawsthorn highlights the world's indigenous cultures, which are disappearing from rural areas, with grave implications for economics and politics as well as growing disillusionment with the overlaps and tensions between the ocean's dim blue light. Join his journey in search of a probe on the classic toy and incorporate boys into its power, organizations will need to embrace radical openness. And for TED, it means to save lives by bringing the right thing. Join him in on this question, Matt Killingsworth built an open-source invention that changed his life.\n",
      "\n",
      "Statistically, the least reliable part of her native Kenya. She shares personal stories from Bosnia, Sierra Leone and most inventive performances yet. He uses them to the remote lakes of the brain's visual system develops. Sinha and his team create dazzling interactive environments from moving water and food is what stands between Africa's current state and a healthy dose of PR.\n",
      "\n"
     ]
    }
   ],
   "source": [
    "# Seperate sentences with '\\n'\n",
    "titles_text = '\\n'.join(titles)\n",
    "descriptions_text = '\\n'.join(descriptions)\n",
    "\n",
    "# Build the model.\n",
    "title_model = CustomText(titles_text)\n",
    "description_model = CustomText(descriptions_text)\n",
    "\n",
    "\n",
    "# Print ten randomly-generated sentences\n",
    "print(\"====Titles====\")\n",
    "for i in range(10):\n",
    "    print(title_model.make_short_sentence(280))\n",
    "    print()\n",
    "\n",
    "print()\n",
    "print()\n",
    "print(\"=====Descriptions=====\")\n",
    "for i in range(10):\n",
    "    print(description_model.make_sentence())\n",
    "    print()"
   ]
  },
  {
   "cell_type": "markdown",
   "metadata": {},
   "source": [
    "# Combining the Title part and Description part"
   ]
  },
  {
   "cell_type": "code",
   "execution_count": 6,
   "metadata": {
    "ExecuteTime": {
     "end_time": "2023-10-26T21:15:53.895284500Z",
     "start_time": "2023-10-26T21:15:53.610232500Z"
    }
   },
   "outputs": [
    {
     "name": "stdout",
     "output_type": "stream",
     "text": [
      "Title: Unlock the mysteries of the Indian Police Service, she managed one of them up in our inboxes, and standard procedure is to delete on sight. But what if there's a pervasive hidden problem keeping poverty alive. Haugen reveals the deeper role theater can play in childhood makes for a great leader Description: The photo director for National Geographic, David Griffin knows the power to make the world ever more independently ... because, she suggests, are actually helping the disease spread.\n",
      "\n",
      "Title: The quantified self Description: At TED@Cannes, Gary Wolf gives a magical performance, talks about the magic of math.\n",
      "\n",
      "Title: The world is running out of unexpected questions and shares a fresh approach to helping these farmers lift themselves out of hospital beds.\n",
      "\n",
      "Title: Let my dataset change your mind after watching Moschen in motion.\n",
      "\n",
      "Title: The art of puzzles Description: At TEDGlobal 2009, he demos an idea and plans to begin a company to fight an epidemic of neurological diseases, such as terrorism, inequality and political dysfunction aren't easy to imagine a world in balance.\n",
      "\n",
      "Title: The search for planets beyond our solar system Description: The divisiveness plaguing American politics Description: Can you still be friends with someone who makes crossword puzzles -- in this wonderfully entertaining and thought-provoking talk, Janette Sadik-Khan, transportation commissioner of New York City, Steve Addis stood on a daily struggle unimaginable to most of their stories to tell people about it, says medical researcher and educator Paula Hammond, we need more nuclear weapons; we need instead Description: You’ve just been dumped.\n",
      "\n",
      "Title: The doubt essential to testing new medications -- that illuminate the plight of the 27 million souls enslaved worldwide.\n",
      "\n",
      "Title: How electroshock therapy changed me Description: Playwright Eve Ensler declares that there are news reports of new health advice, but how about right now? Generally, we want to spend time on less mundane and mechanical challenges. Rodney Brooks talks about clever strategies to open\n",
      "\n",
      "Title: How to build computer models that can awaken much bigger ones: the power to make peace? Get angry at injustice. In this talk, he thinks they are suspected of wrongdoing or not.\n",
      "\n",
      "Title: How equal do we do it? In this brave talk, she presents her work is vital in setting baselines for fixing our current methods fail firsthand, as he discusses four post-Brexit steps toward a more transparent, inclusive and accountable society -- if we want to be the reincarnation of a deep, unexamined divide between those that call their banks and deltas home. In this inspiring talk, she describes her decade-long quest to develop a Plan B: a parallel system to fall back on computer-controlled grand pianos.\n",
      "\n"
     ]
    }
   ],
   "source": [
    "contents = [\"Title: \" + a + \" Description: \" + b for a, b in zip(titles, descriptions)]\n",
    "\n",
    "text = '\\n'.join(contents)\n",
    "# Build the model.\n",
    "text_model = CustomText(text)\n",
    "\n",
    "# Print ten randomly-generated sentences\n",
    "for i in range(10):\n",
    "    print(text_model.make_sentence())\n",
    "    print()\n"
   ]
  },
  {
   "cell_type": "markdown",
   "metadata": {},
   "source": [
    "# Seperate"
   ]
  },
  {
   "cell_type": "code",
   "execution_count": null,
   "metadata": {},
   "outputs": [],
   "source": []
  },
  {
   "cell_type": "markdown",
   "metadata": {},
   "source": [
    "# Football Commentary"
   ]
  },
  {
   "cell_type": "code",
   "execution_count": 17,
   "metadata": {},
   "outputs": [
    {
     "name": "stdout",
     "output_type": "stream",
     "text": [
      "Marco Reus with a through ball.\n",
      "Offside, Paris Saint Germain 1.\n",
      "Julian Draxler replaces Jose Paolo Guerrero is caught offside.\n",
      "Assisted by Mats Hummels.\n"
     ]
    }
   ],
   "source": [
    "df = pd.read_csv('data/football_commentary.csv')\n",
    "text = \" \".join(df['text'])\n",
    "text_model = markovify.Text(text)\n",
    "\n",
    "# Generate sentences based on the text data\n",
    "for _ in range(5):\n",
    "    sentence = text_model.make_sentence()\n",
    "    if sentence:\n",
    "        print(sentence)"
   ]
  },
  {
   "cell_type": "markdown",
   "metadata": {},
   "source": [
    "# Movies"
   ]
  },
  {
   "cell_type": "markdown",
   "metadata": {},
   "source": [
    "### This is a guessing game, where we have 5 movies' transcripts, and we try to guess the movie title from the generated texts. The movies are: \n",
    "- The Imitation Game\n",
    "- Interstellar\n",
    "- Titanic\n",
    "- Forrest Gump\n",
    "- Top Gear"
   ]
  },
  {
   "cell_type": "code",
   "execution_count": 51,
   "metadata": {},
   "outputs": [
    {
     "name": "stdout",
     "output_type": "stream",
     "text": [
      "1. Y-You need me a lot easier if you weren't alone?\n",
      "2. Do you know what they do not like you.\n",
      "3. What makes you think we were searching -the wrong one. -What are you helping me?\n",
      "4. I-I solved a-a crossword puzzle in the bloody door. -Uh, no.\n",
      "5. It's really quite useful to be very good at... -Ma'am, -I'll have to promise me that you do not like you.\n",
      "6. I don't want to be exact about it.\n",
      "7. It's all the help you if they do to homosexuals?\n",
      "8. Break the code, at least give us some more time.\n",
      "9. So I can barely understand? -Uh, 23. -And you don't get to know what to feed to the lovely young ladies who tend to be able to say that it would take for us to win -the war. -Our job was to crack Enigma.\n",
      "10. Peter... do you know what it's on.\n",
      "11. I smiled at me a Soviet spy.\n",
      "12. T... -JOAN: Ready? -Yes. -M... -M... -Y... -Y... -I... -I... -S...\n",
      "13. Alan, are you saying?\n",
      "14. But you've just set the record for the likes of you.\n",
      "15. Do you have the life together that we need, then we'll go back to doing things the old way-- how about you tell him about the attack. -What are those? -Apples. -No. -Oh, they really are.\n",
      "16. But you know, this morning...\n",
      "17. Do you tackle the whole bloody war.\n",
      "18. Well, I'm really quite useful to be an attack on a British passenger convoy.\n",
      "19. Are-are we to work again, never be able to say that our brains work differently, that we want.\n",
      "20. They could send you to help you determine how much we improve it.\n"
     ]
    }
   ],
   "source": [
    "with open(\"data/movie scripts/movie1.txt\") as f:\n",
    "    text = f.read()\n",
    "\n",
    "text_model = markovify.Text(text)\n",
    "\n",
    "for i in range(20):\n",
    "    sentence = text_model.make_sentence()\n",
    "    if sentence:\n",
    "        print(str(i+1) + \". \"+ sentence)"
   ]
  },
  {
   "cell_type": "code",
   "execution_count": 50,
   "metadata": {},
   "outputs": [
    {
     "name": "stdout",
     "output_type": "stream",
     "text": [
      "1. - And Miller's is on the other side, huh?\n",
      "2. Eight months to Saturn.\n",
      "3. And we're growing more than just a few minutes...\n",
      "4. Yeah, he's got a chance for the long nap, wait to be with other people is powerful.\n",
      "6. Conserve fuel, minimize thrusting, but make sure they bring it back.\n",
      "7. It's not to breathe.\n",
      "8. I didn't at least three of them.\n",
      "9. Miss Hanley's here to do?\n",
      "10. Love is the one.\n",
      "11. We must think not as individuals but as a resource, like oxygen and food.\n",
      "12. came off the ground?\n",
      "13. is why I can't describe it.\n",
      "14. You know why we call it a whirl?\n",
      "15. it'll have to talk about Murph.\n",
      "16. I'm not afraid of time.\n",
      "17. now you need to be with other people is powerful.\n",
      "18. who I know that.\n",
      "19. I'm here for me now.\n",
      "20. - But they said I could use hibernation to stretch that...\n"
     ]
    }
   ],
   "source": [
    "with open(\"data/movie scripts/movie2.txt\") as f:\n",
    "    text = f.read()\n",
    "\n",
    "text_model = markovify.Text(text)\n",
    "\n",
    "for i in range(20):\n",
    "    sentence = text_model.make_sentence()\n",
    "    if sentence:\n",
    "        print(str(i+1) + \". \"+ sentence)"
   ]
  },
  {
   "cell_type": "code",
   "execution_count": 49,
   "metadata": {},
   "outputs": [
    {
     "name": "stdout",
     "output_type": "stream",
     "text": [
      "1. He seems to be sent back, twice.\n",
      "2. I'll never let go, and I'm going home.\n",
      "3. I see it in my memory.\n",
      "4. It happens Mr. Dawson here...\n",
      "5. It's going to have to leave.\n",
      "6. Let's see you do that.\n",
      "7. ...had nothing to do it fast.\n",
      "8. I have a picture of me looking like a brandy.\n",
      "9. It's all right, dearie.\n",
      "11. Fabri, Tommy, give me your hand.\n",
      "12. You didn't come to me have disappeared.\n",
      "13. 56 carats to be sent back, twice.\n",
      "14. Only for a little silver one, Rose.\n",
      "15. I can't see you. - What's happening, Jack? - I have it, miss.\n",
      "16. By the next one.\n",
      "17. Oh, it is a deep ocean of secrets.\n",
      "18. What are you going?\n",
      "19. If only you'd come to me have disappeared.\n"
     ]
    }
   ],
   "source": [
    "with open(\"data/movie scripts/movie3.txt\") as f:\n",
    "    text = f.read()\n",
    "\n",
    "text_model = markovify.Text(text)\n",
    "\n",
    "for i in range(20):\n",
    "    sentence = text_model.make_sentence()\n",
    "    if sentence:\n",
    "        print(str(i+1) + \". \"+ sentence)"
   ]
  },
  {
   "cell_type": "code",
   "execution_count": 47,
   "metadata": {},
   "outputs": [
    {
     "name": "stdout",
     "output_type": "stream",
     "text": [
      "1. And that's all I have a ride?\n",
      "2. Jenny most of all, I thought you might help me.\n",
      "3. I was showing him a thing called the Hotel Ebbott.\n",
      "4. - Run, you stupid or something?\n",
      "5. I should be in a million sparkles on the space shuttle.\n"
     ]
    }
   ],
   "source": [
    "with open(\"data/movie scripts/movie4.txt\") as f:\n",
    "    text = f.read()\n",
    "\n",
    "text_model = markovify.Text(text)\n",
    "\n",
    "for i in range(5):\n",
    "    sentence = text_model.make_sentence()\n",
    "    if sentence:\n",
    "        print(str(i+1) + \". \"+ sentence)"
   ]
  },
  {
   "cell_type": "code",
   "execution_count": 46,
   "metadata": {},
   "outputs": [
    {
     "name": "stdout",
     "output_type": "stream",
     "text": [
      "1. Look, we did agree that we have these two.\n",
      "2. One thing's for sure, it is the Ferrari, the GTO, the 599 GTO.\n",
      "3. Lexus normally do everything they can to disguise that their cars have been talking about the Vauxhall Vectra?\n",
      "4. And nor do Formula 1 cars have to start with this.\n",
      "5. Now, the thing that appears to have risen from the fuel tank directly back into the Darlington Football Club car park to the car park to the sound barrier, and runs a fleet of nuclear-powered 33 knot airports.\n",
      "6. This is a comedy car, that you're being propelled by bits of metal flying around.\n",
      "7. Because all that remains for us to do is very nasty.\n",
      "8. Of course, nobody is watching this, which makes it a lot of noise, speed, power and tortured metaphors.\n",
      "9. I like a complete hooligan.\n",
      "10. If you want to wake him up.\n"
     ]
    }
   ],
   "source": [
    "with open(\"data/movie scripts/movie5.txt\") as f:\n",
    "    text = f.read()\n",
    "\n",
    "text_model = markovify.Text(text)\n",
    "\n",
    "for i in range(10):\n",
    "    sentence = text_model.make_sentence()\n",
    "    if sentence:\n",
    "        print(str(i+1) + \". \"+ sentence)"
   ]
  }
 ],
 "metadata": {
  "kernelspec": {
   "display_name": "Python 3 (ipykernel)",
   "language": "python",
   "name": "python3"
  },
  "language_info": {
   "codemirror_mode": {
    "name": "ipython",
    "version": 3
   },
   "file_extension": ".py",
   "mimetype": "text/x-python",
   "name": "python",
   "nbconvert_exporter": "python",
   "pygments_lexer": "ipython3",
   "version": "3.10.12"
  }
 },
 "nbformat": 4,
 "nbformat_minor": 1
}
